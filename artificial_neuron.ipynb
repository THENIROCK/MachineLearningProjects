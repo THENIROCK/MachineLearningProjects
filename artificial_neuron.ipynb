{
  "nbformat": 4,
  "nbformat_minor": 0,
  "metadata": {
    "colab": {
      "provenance": [],
      "authorship_tag": "ABX9TyP5SdGZXQFz/FQq7bT6FD2n",
      "include_colab_link": true
    },
    "kernelspec": {
      "name": "python3",
      "display_name": "Python 3"
    },
    "language_info": {
      "name": "python"
    }
  },
  "cells": [
    {
      "cell_type": "markdown",
      "metadata": {
        "id": "view-in-github",
        "colab_type": "text"
      },
      "source": [
        "<a href=\"https://colab.research.google.com/github/THENIROCK/MachineLearningProjects/blob/main/artificial_neuron.ipynb\" target=\"_parent\"><img src=\"https://colab.research.google.com/assets/colab-badge.svg\" alt=\"Open In Colab\"/></a>"
      ]
    },
    {
      "cell_type": "code",
      "execution_count": null,
      "metadata": {
        "id": "gTA8o9ix41n5"
      },
      "outputs": [],
      "source": [
        "import math\n",
        "\n",
        "def sigmoid(x):\n",
        "    \"\"\"Sigmoid activation function\n",
        "    Args:\n",
        "        x (float): Value to be processed\n",
        "    Returns:\n",
        "        y (float): Output\n",
        "    \"\"\"\n",
        "    y = 1.0 / (1 + math.exp(-x))\n",
        "    return y\n",
        "\n",
        "\n",
        "def activate(inputs, weights):\n",
        "    \"\"\"Computes activation of neuron based on input signals and connection\n",
        "    weights. Output = f(x_1*w_1 + x_2*w_2 + ... + x_k*w_k), where 'f' is the\n",
        "    sigmoid function.\n",
        "    Args:\n",
        "        inputs (list): Input signals\n",
        "        weights (list): Connection weights\n",
        "    Returns:\n",
        "        output (float): Output value\n",
        "    \"\"\"\n",
        "\n",
        "    h = 0\n",
        "\n",
        "    # compute the sum of the product of the input signals and the weights\n",
        "    # here we're using pythons \"zip\" function to iterate two lists together\n",
        "    for x, w in zip(inputs, weights):\n",
        "        h += x*w\n",
        "\n",
        "    # process sum through sigmoid activation function\n",
        "    return sigmoid(h)\n",
        "\n",
        "\n",
        "if __name__ == \"__main__\":\n",
        "    inputs = [0.5, 0.3, 0.2]\n",
        "    weights = [0.4, 0.7, 0.2]\n",
        "    output = activate(inputs, weights)\n",
        "    print(output)"
      ]
    }
  ]
}